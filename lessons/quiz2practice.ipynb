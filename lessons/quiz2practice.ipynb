{
 "cells": [
  {
   "cell_type": "code",
   "execution_count": 1,
   "metadata": {},
   "outputs": [],
   "source": [
    "def compare_scores(players: dict[str, list[int]], num_games: int) -> str:\n",
    "    best_player: str = \"\"\n",
    "    player_dict: dict[str, int] = {}\n",
    "    i: int = 0\n",
    "    maximum: int = 0\n",
    "\n",
    "    while i < num_games:\n",
    "        for name in players:\n",
    "            if players[name][i] > maximum:\n",
    "                maximum = players[name][i]\n",
    "                if name in player_dict:\n",
    "                    player_dict[name] += 1\n",
    "                else:\n",
    "                    player_dict[name] = 1\n",
    "        i += 1\n",
    "\n",
    "    for person in player_dict:\n",
    "        s_count: int = 0\n",
    "        if player_dict[person] > s_count:\n",
    "            s_count = player_dict[person]\n",
    "            best_player = person\n",
    "\n",
    "    return best_player"
   ]
  }
 ],
 "metadata": {
  "kernelspec": {
   "display_name": "Python 3.10.6 64-bit",
   "language": "python",
   "name": "python3"
  },
  "language_info": {
   "codemirror_mode": {
    "name": "ipython",
    "version": 3
   },
   "file_extension": ".py",
   "mimetype": "text/x-python",
   "name": "python",
   "nbconvert_exporter": "python",
   "pygments_lexer": "ipython3",
   "version": "3.10.6"
  },
  "orig_nbformat": 4,
  "vscode": {
   "interpreter": {
    "hash": "3ff8ad971f8ba61d5466eb0cfa65e21d1e3d85015abda36fc699c92e55849c40"
   }
  }
 },
 "nbformat": 4,
 "nbformat_minor": 2
}
